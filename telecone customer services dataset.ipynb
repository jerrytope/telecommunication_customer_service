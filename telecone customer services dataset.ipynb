{
 "cells": [
  {
   "cell_type": "code",
   "execution_count": 1,
   "id": "97636066",
   "metadata": {},
   "outputs": [],
   "source": [
    "import tensorflow as tf\n",
    "from tensorflow import keras\n",
    "import numpy as np\n",
    "from  matplotlib import pyplot as plt\n"
   ]
  },
  {
   "cell_type": "code",
   "execution_count": 2,
   "id": "8927ac60",
   "metadata": {
    "scrolled": true
   },
   "outputs": [
    {
     "data": {
      "text/html": [
       "<div>\n",
       "<style scoped>\n",
       "    .dataframe tbody tr th:only-of-type {\n",
       "        vertical-align: middle;\n",
       "    }\n",
       "\n",
       "    .dataframe tbody tr th {\n",
       "        vertical-align: top;\n",
       "    }\n",
       "\n",
       "    .dataframe thead th {\n",
       "        text-align: right;\n",
       "    }\n",
       "</style>\n",
       "<table border=\"1\" class=\"dataframe\">\n",
       "  <thead>\n",
       "    <tr style=\"text-align: right;\">\n",
       "      <th></th>\n",
       "      <th>customerID</th>\n",
       "      <th>gender</th>\n",
       "      <th>SeniorCitizen</th>\n",
       "      <th>Partner</th>\n",
       "      <th>Dependents</th>\n",
       "      <th>tenure</th>\n",
       "      <th>PhoneService</th>\n",
       "      <th>MultipleLines</th>\n",
       "      <th>InternetService</th>\n",
       "      <th>OnlineSecurity</th>\n",
       "      <th>...</th>\n",
       "      <th>DeviceProtection</th>\n",
       "      <th>TechSupport</th>\n",
       "      <th>StreamingTV</th>\n",
       "      <th>StreamingMovies</th>\n",
       "      <th>Contract</th>\n",
       "      <th>PaperlessBilling</th>\n",
       "      <th>PaymentMethod</th>\n",
       "      <th>MonthlyCharges</th>\n",
       "      <th>TotalCharges</th>\n",
       "      <th>Churn</th>\n",
       "    </tr>\n",
       "  </thead>\n",
       "  <tbody>\n",
       "    <tr>\n",
       "      <th>0</th>\n",
       "      <td>7590-VHVEG</td>\n",
       "      <td>Female</td>\n",
       "      <td>0</td>\n",
       "      <td>Yes</td>\n",
       "      <td>No</td>\n",
       "      <td>1</td>\n",
       "      <td>No</td>\n",
       "      <td>No phone service</td>\n",
       "      <td>DSL</td>\n",
       "      <td>No</td>\n",
       "      <td>...</td>\n",
       "      <td>No</td>\n",
       "      <td>No</td>\n",
       "      <td>No</td>\n",
       "      <td>No</td>\n",
       "      <td>Month-to-month</td>\n",
       "      <td>Yes</td>\n",
       "      <td>Electronic check</td>\n",
       "      <td>29.85</td>\n",
       "      <td>29.85</td>\n",
       "      <td>No</td>\n",
       "    </tr>\n",
       "    <tr>\n",
       "      <th>1</th>\n",
       "      <td>5575-GNVDE</td>\n",
       "      <td>Male</td>\n",
       "      <td>0</td>\n",
       "      <td>No</td>\n",
       "      <td>No</td>\n",
       "      <td>34</td>\n",
       "      <td>Yes</td>\n",
       "      <td>No</td>\n",
       "      <td>DSL</td>\n",
       "      <td>Yes</td>\n",
       "      <td>...</td>\n",
       "      <td>Yes</td>\n",
       "      <td>No</td>\n",
       "      <td>No</td>\n",
       "      <td>No</td>\n",
       "      <td>One year</td>\n",
       "      <td>No</td>\n",
       "      <td>Mailed check</td>\n",
       "      <td>56.95</td>\n",
       "      <td>1889.5</td>\n",
       "      <td>No</td>\n",
       "    </tr>\n",
       "    <tr>\n",
       "      <th>2</th>\n",
       "      <td>3668-QPYBK</td>\n",
       "      <td>Male</td>\n",
       "      <td>0</td>\n",
       "      <td>No</td>\n",
       "      <td>No</td>\n",
       "      <td>2</td>\n",
       "      <td>Yes</td>\n",
       "      <td>No</td>\n",
       "      <td>DSL</td>\n",
       "      <td>Yes</td>\n",
       "      <td>...</td>\n",
       "      <td>No</td>\n",
       "      <td>No</td>\n",
       "      <td>No</td>\n",
       "      <td>No</td>\n",
       "      <td>Month-to-month</td>\n",
       "      <td>Yes</td>\n",
       "      <td>Mailed check</td>\n",
       "      <td>53.85</td>\n",
       "      <td>108.15</td>\n",
       "      <td>Yes</td>\n",
       "    </tr>\n",
       "    <tr>\n",
       "      <th>3</th>\n",
       "      <td>7795-CFOCW</td>\n",
       "      <td>Male</td>\n",
       "      <td>0</td>\n",
       "      <td>No</td>\n",
       "      <td>No</td>\n",
       "      <td>45</td>\n",
       "      <td>No</td>\n",
       "      <td>No phone service</td>\n",
       "      <td>DSL</td>\n",
       "      <td>Yes</td>\n",
       "      <td>...</td>\n",
       "      <td>Yes</td>\n",
       "      <td>Yes</td>\n",
       "      <td>No</td>\n",
       "      <td>No</td>\n",
       "      <td>One year</td>\n",
       "      <td>No</td>\n",
       "      <td>Bank transfer (automatic)</td>\n",
       "      <td>42.30</td>\n",
       "      <td>1840.75</td>\n",
       "      <td>No</td>\n",
       "    </tr>\n",
       "    <tr>\n",
       "      <th>4</th>\n",
       "      <td>9237-HQITU</td>\n",
       "      <td>Female</td>\n",
       "      <td>0</td>\n",
       "      <td>No</td>\n",
       "      <td>No</td>\n",
       "      <td>2</td>\n",
       "      <td>Yes</td>\n",
       "      <td>No</td>\n",
       "      <td>Fiber optic</td>\n",
       "      <td>No</td>\n",
       "      <td>...</td>\n",
       "      <td>No</td>\n",
       "      <td>No</td>\n",
       "      <td>No</td>\n",
       "      <td>No</td>\n",
       "      <td>Month-to-month</td>\n",
       "      <td>Yes</td>\n",
       "      <td>Electronic check</td>\n",
       "      <td>70.70</td>\n",
       "      <td>151.65</td>\n",
       "      <td>Yes</td>\n",
       "    </tr>\n",
       "  </tbody>\n",
       "</table>\n",
       "<p>5 rows × 21 columns</p>\n",
       "</div>"
      ],
      "text/plain": [
       "   customerID  gender  SeniorCitizen Partner Dependents  tenure PhoneService  \\\n",
       "0  7590-VHVEG  Female              0     Yes         No       1           No   \n",
       "1  5575-GNVDE    Male              0      No         No      34          Yes   \n",
       "2  3668-QPYBK    Male              0      No         No       2          Yes   \n",
       "3  7795-CFOCW    Male              0      No         No      45           No   \n",
       "4  9237-HQITU  Female              0      No         No       2          Yes   \n",
       "\n",
       "      MultipleLines InternetService OnlineSecurity  ... DeviceProtection  \\\n",
       "0  No phone service             DSL             No  ...               No   \n",
       "1                No             DSL            Yes  ...              Yes   \n",
       "2                No             DSL            Yes  ...               No   \n",
       "3  No phone service             DSL            Yes  ...              Yes   \n",
       "4                No     Fiber optic             No  ...               No   \n",
       "\n",
       "  TechSupport StreamingTV StreamingMovies        Contract PaperlessBilling  \\\n",
       "0          No          No              No  Month-to-month              Yes   \n",
       "1          No          No              No        One year               No   \n",
       "2          No          No              No  Month-to-month              Yes   \n",
       "3         Yes          No              No        One year               No   \n",
       "4          No          No              No  Month-to-month              Yes   \n",
       "\n",
       "               PaymentMethod MonthlyCharges  TotalCharges Churn  \n",
       "0           Electronic check          29.85         29.85    No  \n",
       "1               Mailed check          56.95        1889.5    No  \n",
       "2               Mailed check          53.85        108.15   Yes  \n",
       "3  Bank transfer (automatic)          42.30       1840.75    No  \n",
       "4           Electronic check          70.70        151.65   Yes  \n",
       "\n",
       "[5 rows x 21 columns]"
      ]
     },
     "execution_count": 2,
     "metadata": {},
     "output_type": "execute_result"
    }
   ],
   "source": [
    "import pandas as pd\n",
    "df = pd.read_csv(\"customer_churn.csv\")\n",
    "df.head(5)"
   ]
  },
  {
   "cell_type": "code",
   "execution_count": 3,
   "id": "6f4afd0f",
   "metadata": {},
   "outputs": [],
   "source": [
    "df = df.drop(\"customerID\",axis = \"columns\")\n"
   ]
  },
  {
   "cell_type": "code",
   "execution_count": 4,
   "id": "0995594e",
   "metadata": {},
   "outputs": [
    {
     "data": {
      "text/html": [
       "<div>\n",
       "<style scoped>\n",
       "    .dataframe tbody tr th:only-of-type {\n",
       "        vertical-align: middle;\n",
       "    }\n",
       "\n",
       "    .dataframe tbody tr th {\n",
       "        vertical-align: top;\n",
       "    }\n",
       "\n",
       "    .dataframe thead th {\n",
       "        text-align: right;\n",
       "    }\n",
       "</style>\n",
       "<table border=\"1\" class=\"dataframe\">\n",
       "  <thead>\n",
       "    <tr style=\"text-align: right;\">\n",
       "      <th></th>\n",
       "      <th>gender</th>\n",
       "      <th>SeniorCitizen</th>\n",
       "      <th>Partner</th>\n",
       "      <th>Dependents</th>\n",
       "      <th>tenure</th>\n",
       "      <th>PhoneService</th>\n",
       "      <th>MultipleLines</th>\n",
       "      <th>InternetService</th>\n",
       "      <th>OnlineSecurity</th>\n",
       "      <th>OnlineBackup</th>\n",
       "      <th>DeviceProtection</th>\n",
       "      <th>TechSupport</th>\n",
       "      <th>StreamingTV</th>\n",
       "      <th>StreamingMovies</th>\n",
       "      <th>Contract</th>\n",
       "      <th>PaperlessBilling</th>\n",
       "      <th>PaymentMethod</th>\n",
       "      <th>MonthlyCharges</th>\n",
       "      <th>TotalCharges</th>\n",
       "      <th>Churn</th>\n",
       "    </tr>\n",
       "  </thead>\n",
       "  <tbody>\n",
       "    <tr>\n",
       "      <th>2766</th>\n",
       "      <td>Female</td>\n",
       "      <td>0</td>\n",
       "      <td>Yes</td>\n",
       "      <td>No</td>\n",
       "      <td>64</td>\n",
       "      <td>Yes</td>\n",
       "      <td>Yes</td>\n",
       "      <td>Fiber optic</td>\n",
       "      <td>Yes</td>\n",
       "      <td>Yes</td>\n",
       "      <td>Yes</td>\n",
       "      <td>Yes</td>\n",
       "      <td>Yes</td>\n",
       "      <td>Yes</td>\n",
       "      <td>One year</td>\n",
       "      <td>Yes</td>\n",
       "      <td>Electronic check</td>\n",
       "      <td>115.00</td>\n",
       "      <td>7396.15</td>\n",
       "      <td>No</td>\n",
       "    </tr>\n",
       "    <tr>\n",
       "      <th>5973</th>\n",
       "      <td>Male</td>\n",
       "      <td>0</td>\n",
       "      <td>No</td>\n",
       "      <td>No</td>\n",
       "      <td>64</td>\n",
       "      <td>Yes</td>\n",
       "      <td>Yes</td>\n",
       "      <td>Fiber optic</td>\n",
       "      <td>No</td>\n",
       "      <td>Yes</td>\n",
       "      <td>Yes</td>\n",
       "      <td>No</td>\n",
       "      <td>Yes</td>\n",
       "      <td>Yes</td>\n",
       "      <td>Two year</td>\n",
       "      <td>Yes</td>\n",
       "      <td>Bank transfer (automatic)</td>\n",
       "      <td>104.40</td>\n",
       "      <td>6692.65</td>\n",
       "      <td>No</td>\n",
       "    </tr>\n",
       "    <tr>\n",
       "      <th>2472</th>\n",
       "      <td>Male</td>\n",
       "      <td>0</td>\n",
       "      <td>Yes</td>\n",
       "      <td>No</td>\n",
       "      <td>67</td>\n",
       "      <td>Yes</td>\n",
       "      <td>Yes</td>\n",
       "      <td>DSL</td>\n",
       "      <td>Yes</td>\n",
       "      <td>Yes</td>\n",
       "      <td>Yes</td>\n",
       "      <td>Yes</td>\n",
       "      <td>No</td>\n",
       "      <td>No</td>\n",
       "      <td>Two year</td>\n",
       "      <td>No</td>\n",
       "      <td>Credit card (automatic)</td>\n",
       "      <td>70.90</td>\n",
       "      <td>4677.1</td>\n",
       "      <td>No</td>\n",
       "    </tr>\n",
       "    <tr>\n",
       "      <th>404</th>\n",
       "      <td>Male</td>\n",
       "      <td>0</td>\n",
       "      <td>No</td>\n",
       "      <td>No</td>\n",
       "      <td>20</td>\n",
       "      <td>Yes</td>\n",
       "      <td>No</td>\n",
       "      <td>No</td>\n",
       "      <td>No internet service</td>\n",
       "      <td>No internet service</td>\n",
       "      <td>No internet service</td>\n",
       "      <td>No internet service</td>\n",
       "      <td>No internet service</td>\n",
       "      <td>No internet service</td>\n",
       "      <td>Two year</td>\n",
       "      <td>Yes</td>\n",
       "      <td>Mailed check</td>\n",
       "      <td>19.70</td>\n",
       "      <td>419.4</td>\n",
       "      <td>No</td>\n",
       "    </tr>\n",
       "    <tr>\n",
       "      <th>1551</th>\n",
       "      <td>Male</td>\n",
       "      <td>0</td>\n",
       "      <td>No</td>\n",
       "      <td>No</td>\n",
       "      <td>22</td>\n",
       "      <td>Yes</td>\n",
       "      <td>Yes</td>\n",
       "      <td>No</td>\n",
       "      <td>No internet service</td>\n",
       "      <td>No internet service</td>\n",
       "      <td>No internet service</td>\n",
       "      <td>No internet service</td>\n",
       "      <td>No internet service</td>\n",
       "      <td>No internet service</td>\n",
       "      <td>Two year</td>\n",
       "      <td>No</td>\n",
       "      <td>Mailed check</td>\n",
       "      <td>25.25</td>\n",
       "      <td>566.5</td>\n",
       "      <td>No</td>\n",
       "    </tr>\n",
       "  </tbody>\n",
       "</table>\n",
       "</div>"
      ],
      "text/plain": [
       "      gender  SeniorCitizen Partner Dependents  tenure PhoneService  \\\n",
       "2766  Female              0     Yes         No      64          Yes   \n",
       "5973    Male              0      No         No      64          Yes   \n",
       "2472    Male              0     Yes         No      67          Yes   \n",
       "404     Male              0      No         No      20          Yes   \n",
       "1551    Male              0      No         No      22          Yes   \n",
       "\n",
       "     MultipleLines InternetService       OnlineSecurity         OnlineBackup  \\\n",
       "2766           Yes     Fiber optic                  Yes                  Yes   \n",
       "5973           Yes     Fiber optic                   No                  Yes   \n",
       "2472           Yes             DSL                  Yes                  Yes   \n",
       "404             No              No  No internet service  No internet service   \n",
       "1551           Yes              No  No internet service  No internet service   \n",
       "\n",
       "         DeviceProtection          TechSupport          StreamingTV  \\\n",
       "2766                  Yes                  Yes                  Yes   \n",
       "5973                  Yes                   No                  Yes   \n",
       "2472                  Yes                  Yes                   No   \n",
       "404   No internet service  No internet service  No internet service   \n",
       "1551  No internet service  No internet service  No internet service   \n",
       "\n",
       "          StreamingMovies  Contract PaperlessBilling  \\\n",
       "2766                  Yes  One year              Yes   \n",
       "5973                  Yes  Two year              Yes   \n",
       "2472                   No  Two year               No   \n",
       "404   No internet service  Two year              Yes   \n",
       "1551  No internet service  Two year               No   \n",
       "\n",
       "                  PaymentMethod  MonthlyCharges TotalCharges Churn  \n",
       "2766           Electronic check          115.00      7396.15    No  \n",
       "5973  Bank transfer (automatic)          104.40      6692.65    No  \n",
       "2472    Credit card (automatic)           70.90       4677.1    No  \n",
       "404                Mailed check           19.70        419.4    No  \n",
       "1551               Mailed check           25.25        566.5    No  "
      ]
     },
     "execution_count": 4,
     "metadata": {},
     "output_type": "execute_result"
    }
   ],
   "source": [
    "df.sample(5)"
   ]
  },
  {
   "cell_type": "code",
   "execution_count": 5,
   "id": "433e13ec",
   "metadata": {},
   "outputs": [
    {
     "data": {
      "text/plain": [
       "gender               object\n",
       "SeniorCitizen         int64\n",
       "Partner              object\n",
       "Dependents           object\n",
       "tenure                int64\n",
       "PhoneService         object\n",
       "MultipleLines        object\n",
       "InternetService      object\n",
       "OnlineSecurity       object\n",
       "OnlineBackup         object\n",
       "DeviceProtection     object\n",
       "TechSupport          object\n",
       "StreamingTV          object\n",
       "StreamingMovies      object\n",
       "Contract             object\n",
       "PaperlessBilling     object\n",
       "PaymentMethod        object\n",
       "MonthlyCharges      float64\n",
       "TotalCharges         object\n",
       "Churn                object\n",
       "dtype: object"
      ]
     },
     "execution_count": 5,
     "metadata": {},
     "output_type": "execute_result"
    }
   ],
   "source": [
    "df.dtypes"
   ]
  },
  {
   "cell_type": "code",
   "execution_count": 6,
   "id": "eaed5917",
   "metadata": {},
   "outputs": [
    {
     "data": {
      "text/plain": [
       "array(['29.85', '1889.5', '108.15', ..., '346.45', '306.6', '6844.5'],\n",
       "      dtype=object)"
      ]
     },
     "execution_count": 6,
     "metadata": {},
     "output_type": "execute_result"
    }
   ],
   "source": [
    "df[\"TotalCharges\"].values"
   ]
  },
  {
   "cell_type": "code",
   "execution_count": 7,
   "id": "4be027de",
   "metadata": {},
   "outputs": [
    {
     "data": {
      "text/plain": [
       "array([ 29.85,  56.95,  53.85, ...,  29.6 ,  74.4 , 105.65])"
      ]
     },
     "execution_count": 7,
     "metadata": {},
     "output_type": "execute_result"
    }
   ],
   "source": [
    "df[\"MonthlyCharges\"].values"
   ]
  },
  {
   "cell_type": "code",
   "execution_count": 8,
   "id": "6bf067b9",
   "metadata": {},
   "outputs": [
    {
     "data": {
      "text/plain": [
       "0       False\n",
       "1       False\n",
       "2       False\n",
       "3       False\n",
       "4       False\n",
       "        ...  \n",
       "7038    False\n",
       "7039    False\n",
       "7040    False\n",
       "7041    False\n",
       "7042    False\n",
       "Name: TotalCharges, Length: 7043, dtype: bool"
      ]
     },
     "execution_count": 8,
     "metadata": {},
     "output_type": "execute_result"
    }
   ],
   "source": [
    "pd.to_numeric(df.TotalCharges, errors = \"coerce\").isnull()"
   ]
  },
  {
   "cell_type": "code",
   "execution_count": 9,
   "id": "fa6f8a61",
   "metadata": {},
   "outputs": [
    {
     "data": {
      "text/plain": [
       "(11, 20)"
      ]
     },
     "execution_count": 9,
     "metadata": {},
     "output_type": "execute_result"
    }
   ],
   "source": [
    "drop = df[pd.to_numeric(df.TotalCharges, errors = \"coerce\").isnull()]\n",
    "drop.shape"
   ]
  },
  {
   "cell_type": "code",
   "execution_count": 10,
   "id": "ac75e830",
   "metadata": {},
   "outputs": [],
   "source": [
    "df1 = df[df.TotalCharges != \" \"]"
   ]
  },
  {
   "cell_type": "code",
   "execution_count": 11,
   "id": "c934f9c8",
   "metadata": {},
   "outputs": [
    {
     "data": {
      "text/plain": [
       "(7032, 20)"
      ]
     },
     "execution_count": 11,
     "metadata": {},
     "output_type": "execute_result"
    }
   ],
   "source": [
    "df1.shape"
   ]
  },
  {
   "cell_type": "code",
   "execution_count": 12,
   "id": "3ade6a33",
   "metadata": {},
   "outputs": [
    {
     "name": "stderr",
     "output_type": "stream",
     "text": [
      "C:\\Users\\USER\\anaconda3\\envs\\tf\\lib\\site-packages\\pandas\\core\\generic.py:5494: SettingWithCopyWarning: \n",
      "A value is trying to be set on a copy of a slice from a DataFrame.\n",
      "Try using .loc[row_indexer,col_indexer] = value instead\n",
      "\n",
      "See the caveats in the documentation: https://pandas.pydata.org/pandas-docs/stable/user_guide/indexing.html#returning-a-view-versus-a-copy\n",
      "  self[name] = value\n"
     ]
    }
   ],
   "source": [
    "df1.TotalCharges = pd.to_numeric(df1.TotalCharges)"
   ]
  },
  {
   "cell_type": "code",
   "execution_count": 13,
   "id": "c7d5baed",
   "metadata": {},
   "outputs": [
    {
     "data": {
      "text/plain": [
       "gender               object\n",
       "SeniorCitizen         int64\n",
       "Partner              object\n",
       "Dependents           object\n",
       "tenure                int64\n",
       "PhoneService         object\n",
       "MultipleLines        object\n",
       "InternetService      object\n",
       "OnlineSecurity       object\n",
       "OnlineBackup         object\n",
       "DeviceProtection     object\n",
       "TechSupport          object\n",
       "StreamingTV          object\n",
       "StreamingMovies      object\n",
       "Contract             object\n",
       "PaperlessBilling     object\n",
       "PaymentMethod        object\n",
       "MonthlyCharges      float64\n",
       "TotalCharges        float64\n",
       "Churn                object\n",
       "dtype: object"
      ]
     },
     "execution_count": 13,
     "metadata": {},
     "output_type": "execute_result"
    }
   ],
   "source": [
    "df1.dtypes"
   ]
  },
  {
   "cell_type": "code",
   "execution_count": 14,
   "id": "41b4260d",
   "metadata": {},
   "outputs": [
    {
     "data": {
      "text/plain": [
       "0        1\n",
       "1       34\n",
       "3       45\n",
       "6       22\n",
       "7       10\n",
       "        ..\n",
       "7037    72\n",
       "7038    24\n",
       "7039    72\n",
       "7040    11\n",
       "7042    66\n",
       "Name: tenure, Length: 5163, dtype: int64"
      ]
     },
     "execution_count": 14,
     "metadata": {},
     "output_type": "execute_result"
    }
   ],
   "source": [
    "tenure_churn_no = df1[df1[\"Churn\"] == \"No\"].tenure\n",
    "tenure_churn_yes = df1[df1[\"Churn\"] == \"Yes\"].tenure\n",
    "tenure_churn_no"
   ]
  },
  {
   "cell_type": "code",
   "execution_count": 15,
   "id": "be93fdab",
   "metadata": {},
   "outputs": [
    {
     "data": {
      "text/plain": [
       "<matplotlib.legend.Legend at 0x23f502c7f10>"
      ]
     },
     "execution_count": 15,
     "metadata": {},
     "output_type": "execute_result"
    },
    {
     "data": {
      "image/png": "[encoded data removed]",
      "text/plain": [
       "<Figure size 432x288 with 1 Axes>"
      ]
     },
     "metadata": {
      "needs_background": "light"
     },
     "output_type": "display_data"
    }
   ],
   "source": [
    "plt.xlabel(\"tenure\")\n",
    "plt.ylabel(\"Number of customer \")\n",
    "plt.title(\"customer churn prediction \")\n",
    "plt.hist([tenure_churn_yes,tenure_churn_no], color = [\"green\", \"red\"], label = [\"churn = yes\", \"churn = no\"])\n",
    "plt.legend()"
   ]
  },
  {
   "cell_type": "code",
   "execution_count": 16,
   "id": "6b0fc35f",
   "metadata": {},
   "outputs": [
    {
     "data": {
      "text/plain": [
       "<matplotlib.legend.Legend at 0x23f5043ab80>"
      ]
     },
     "execution_count": 16,
     "metadata": {},
     "output_type": "execute_result"
    },
    {
     "data": {
      "image/png": "[encoded data removed]",
      "text/plain": [
       "<Figure size 432x288 with 1 Axes>"
      ]
     },
     "metadata": {
      "needs_background": "light"
     },
     "output_type": "display_data"
    }
   ],
   "source": [
    "tenure_churn_no = df1[df1[\"Churn\"] == \"No\"].MonthlyCharges\n",
    "tenure_churn_yes = df1[df1[\"Churn\"] == \"Yes\"].MonthlyCharges\n",
    "\n",
    "plt.xlabel(\"MonthlyCharges\")\n",
    "plt.ylabel(\"Number of customer\")\n",
    "plt.title(\"customer churn prediction \")\n",
    "plt.hist([tenure_churn_yes,tenure_churn_no], color = [\"green\", \"red\"], label = [\"churn = yes\", \"churn = no\"])\n",
    "plt.legend()"
   ]
  },
  {
   "cell_type": "code",
   "execution_count": 17,
   "id": "f8e74f0b",
   "metadata": {},
   "outputs": [],
   "source": [
    "def unique_values(df):\n",
    "    for column in df1:\n",
    "        if df[column].dtypes == \"object\":\n",
    "            print(f' {column}: {df[column].unique()}')"
   ]
  },
  {
   "cell_type": "code",
   "execution_count": 18,
   "id": "b22b1e58",
   "metadata": {},
   "outputs": [
    {
     "name": "stdout",
     "output_type": "stream",
     "text": [
      " gender: ['Female' 'Male']\n",
      " Partner: ['Yes' 'No']\n",
      " Dependents: ['No' 'Yes']\n",
      " PhoneService: ['No' 'Yes']\n",
      " MultipleLines: ['No phone service' 'No' 'Yes']\n",
      " InternetService: ['DSL' 'Fiber optic' 'No']\n",
      " OnlineSecurity: ['No' 'Yes' 'No internet service']\n",
      " OnlineBackup: ['Yes' 'No' 'No internet service']\n",
      " DeviceProtection: ['No' 'Yes' 'No internet service']\n",
      " TechSupport: ['No' 'Yes' 'No internet service']\n",
      " StreamingTV: ['No' 'Yes' 'No internet service']\n",
      " StreamingMovies: ['No' 'Yes' 'No internet service']\n",
      " Contract: ['Month-to-month' 'One year' 'Two year']\n",
      " PaperlessBilling: ['Yes' 'No']\n",
      " PaymentMethod: ['Electronic check' 'Mailed check' 'Bank transfer (automatic)'\n",
      " 'Credit card (automatic)']\n",
      " Churn: ['No' 'Yes']\n"
     ]
    }
   ],
   "source": [
    "unique_values(df1)"
   ]
  },
  {
   "cell_type": "code",
   "execution_count": 19,
   "id": "b3030b54",
   "metadata": {},
   "outputs": [
    {
     "name": "stderr",
     "output_type": "stream",
     "text": [
      "C:\\Users\\USER\\anaconda3\\envs\\tf\\lib\\site-packages\\pandas\\core\\frame.py:4524: SettingWithCopyWarning: \n",
      "A value is trying to be set on a copy of a slice from a DataFrame\n",
      "\n",
      "See the caveats in the documentation: https://pandas.pydata.org/pandas-docs/stable/user_guide/indexing.html#returning-a-view-versus-a-copy\n",
      "  return super().replace(\n"
     ]
    }
   ],
   "source": [
    "df1.replace(\"No internet service\", \"No\", inplace = True)\n",
    "df1.replace(\"No phone service\", \"No\", inplace = True)"
   ]
  },
  {
   "cell_type": "code",
   "execution_count": 20,
   "id": "e77394f8",
   "metadata": {},
   "outputs": [
    {
     "name": "stdout",
     "output_type": "stream",
     "text": [
      " gender: ['Female' 'Male']\n",
      " Partner: ['Yes' 'No']\n",
      " Dependents: ['No' 'Yes']\n",
      " PhoneService: ['No' 'Yes']\n",
      " MultipleLines: ['No' 'Yes']\n",
      " InternetService: ['DSL' 'Fiber optic' 'No']\n",
      " OnlineSecurity: ['No' 'Yes']\n",
      " OnlineBackup: ['Yes' 'No']\n",
      " DeviceProtection: ['No' 'Yes']\n",
      " TechSupport: ['No' 'Yes']\n",
      " StreamingTV: ['No' 'Yes']\n",
      " StreamingMovies: ['No' 'Yes']\n",
      " Contract: ['Month-to-month' 'One year' 'Two year']\n",
      " PaperlessBilling: ['Yes' 'No']\n",
      " PaymentMethod: ['Electronic check' 'Mailed check' 'Bank transfer (automatic)'\n",
      " 'Credit card (automatic)']\n",
      " Churn: ['No' 'Yes']\n"
     ]
    }
   ],
   "source": [
    "unique_values(df1)"
   ]
  },
  {
   "cell_type": "code",
   "execution_count": 21,
   "id": "b57e0529",
   "metadata": {},
   "outputs": [
    {
     "name": "stderr",
     "output_type": "stream",
     "text": [
      "C:\\Users\\USER\\anaconda3\\envs\\tf\\lib\\site-packages\\pandas\\core\\series.py:4509: SettingWithCopyWarning: \n",
      "A value is trying to be set on a copy of a slice from a DataFrame\n",
      "\n",
      "See the caveats in the documentation: https://pandas.pydata.org/pandas-docs/stable/user_guide/indexing.html#returning-a-view-versus-a-copy\n",
      "  return super().replace(\n"
     ]
    }
   ],
   "source": [
    "yes_no_columns = [\"Partner\",\"Dependents\", \"PhoneService\", \"MultipleLines\",\"OnlineSecurity\", \"OnlineBackup\", \n",
    "                  \"DeviceProtection\", \"TechSupport\",\"StreamingTV\",\"StreamingMovies\", \"PaperlessBilling\", \"Churn\"]\n",
    "\n",
    "for col in yes_no_columns:\n",
    "    df1[col].replace({\"Yes\":1, \"No\":0,}, inplace = True)"
   ]
  },
  {
   "cell_type": "code",
   "execution_count": 22,
   "id": "0ab19cd2",
   "metadata": {
    "scrolled": true
   },
   "outputs": [
    {
     "name": "stdout",
     "output_type": "stream",
     "text": [
      " gender: ['Female' 'Male']\n",
      " SeniorCitizen: [0 1]\n",
      " Partner: [1 0]\n",
      " Dependents: [0 1]\n",
      " tenure: [ 1 34  2 45  8 22 10 28 62 13 16 58 49 25 69 52 71 21 12 30 47 72 17 27\n",
      "  5 46 11 70 63 43 15 60 18 66  9  3 31 50 64 56  7 42 35 48 29 65 38 68\n",
      " 32 55 37 36 41  6  4 33 67 23 57 61 14 20 53 40 59 24 44 19 54 51 26 39]\n",
      " PhoneService: [0 1]\n",
      " MultipleLines: [0 1]\n",
      " InternetService: ['DSL' 'Fiber optic' 'No']\n",
      " OnlineSecurity: [0 1]\n",
      " OnlineBackup: [1 0]\n",
      " DeviceProtection: [0 1]\n",
      " TechSupport: [0 1]\n",
      " StreamingTV: [0 1]\n",
      " StreamingMovies: [0 1]\n",
      " Contract: ['Month-to-month' 'One year' 'Two year']\n",
      " PaperlessBilling: [1 0]\n",
      " PaymentMethod: ['Electronic check' 'Mailed check' 'Bank transfer (automatic)'\n",
      " 'Credit card (automatic)']\n",
      " MonthlyCharges: [29.85 56.95 53.85 ... 63.1  44.2  78.7 ]\n",
      " TotalCharges: [  29.85 1889.5   108.15 ...  346.45  306.6  6844.5 ]\n",
      " Churn: [0 1]\n"
     ]
    }
   ],
   "source": [
    "for col in df1:\n",
    "      print(f' {col}: {df1[col].unique()}')\n",
    "    "
   ]
  },
  {
   "cell_type": "code",
   "execution_count": 23,
   "id": "784fdafc",
   "metadata": {
    "scrolled": true
   },
   "outputs": [],
   "source": [
    "df1.replace({\"Female\": 1, \"Male\":0}, inplace = True)"
   ]
  },
  {
   "cell_type": "code",
   "execution_count": 24,
   "id": "1fb2bb1d",
   "metadata": {},
   "outputs": [
    {
     "data": {
      "text/plain": [
       "array([1, 0], dtype=int64)"
      ]
     },
     "execution_count": 24,
     "metadata": {},
     "output_type": "execute_result"
    }
   ],
   "source": [
    "df1[\"gender\"].unique()"
   ]
  },
  {
   "cell_type": "code",
   "execution_count": 25,
   "id": "695bc01b",
   "metadata": {},
   "outputs": [],
   "source": [
    "df2 = pd.get_dummies(data = df1, columns = [\"InternetService\", \"Contract\",\"PaymentMethod\"])"
   ]
  },
  {
   "cell_type": "code",
   "execution_count": 26,
   "id": "1f0b91e7",
   "metadata": {},
   "outputs": [
    {
     "data": {
      "text/plain": [
       "Index(['gender', 'SeniorCitizen', 'Partner', 'Dependents', 'tenure',\n",
       "       'PhoneService', 'MultipleLines', 'OnlineSecurity', 'OnlineBackup',\n",
       "       'DeviceProtection', 'TechSupport', 'StreamingTV', 'StreamingMovies',\n",
       "       'PaperlessBilling', 'MonthlyCharges', 'TotalCharges', 'Churn',\n",
       "       'InternetService_DSL', 'InternetService_Fiber optic',\n",
       "       'InternetService_No', 'Contract_Month-to-month', 'Contract_One year',\n",
       "       'Contract_Two year', 'PaymentMethod_Bank transfer (automatic)',\n",
       "       'PaymentMethod_Credit card (automatic)',\n",
       "       'PaymentMethod_Electronic check', 'PaymentMethod_Mailed check'],\n",
       "      dtype='object')"
      ]
     },
     "execution_count": 26,
     "metadata": {},
     "output_type": "execute_result"
    }
   ],
   "source": [
    "df2.columns"
   ]
  },
  {
   "cell_type": "code",
   "execution_count": 27,
   "id": "4fc4ab06",
   "metadata": {},
   "outputs": [
    {
     "data": {
      "text/html": [
       "<div>\n",
       "<style scoped>\n",
       "    .dataframe tbody tr th:only-of-type {\n",
       "        vertical-align: middle;\n",
       "    }\n",
       "\n",
       "    .dataframe tbody tr th {\n",
       "        vertical-align: top;\n",
       "    }\n",
       "\n",
       "    .dataframe thead th {\n",
       "        text-align: right;\n",
       "    }\n",
       "</style>\n",
       "<table border=\"1\" class=\"dataframe\">\n",
       "  <thead>\n",
       "    <tr style=\"text-align: right;\">\n",
       "      <th></th>\n",
       "      <th>gender</th>\n",
       "      <th>SeniorCitizen</th>\n",
       "      <th>Partner</th>\n",
       "      <th>Dependents</th>\n",
       "      <th>tenure</th>\n",
       "      <th>PhoneService</th>\n",
       "      <th>MultipleLines</th>\n",
       "      <th>OnlineSecurity</th>\n",
       "      <th>OnlineBackup</th>\n",
       "      <th>DeviceProtection</th>\n",
       "      <th>...</th>\n",
       "      <th>InternetService_DSL</th>\n",
       "      <th>InternetService_Fiber optic</th>\n",
       "      <th>InternetService_No</th>\n",
       "      <th>Contract_Month-to-month</th>\n",
       "      <th>Contract_One year</th>\n",
       "      <th>Contract_Two year</th>\n",
       "      <th>PaymentMethod_Bank transfer (automatic)</th>\n",
       "      <th>PaymentMethod_Credit card (automatic)</th>\n",
       "      <th>PaymentMethod_Electronic check</th>\n",
       "      <th>PaymentMethod_Mailed check</th>\n",
       "    </tr>\n",
       "  </thead>\n",
       "  <tbody>\n",
       "    <tr>\n",
       "      <th>5777</th>\n",
       "      <td>0</td>\n",
       "      <td>0</td>\n",
       "      <td>1</td>\n",
       "      <td>0</td>\n",
       "      <td>72</td>\n",
       "      <td>1</td>\n",
       "      <td>1</td>\n",
       "      <td>1</td>\n",
       "      <td>1</td>\n",
       "      <td>1</td>\n",
       "      <td>...</td>\n",
       "      <td>1</td>\n",
       "      <td>0</td>\n",
       "      <td>0</td>\n",
       "      <td>0</td>\n",
       "      <td>0</td>\n",
       "      <td>1</td>\n",
       "      <td>0</td>\n",
       "      <td>0</td>\n",
       "      <td>0</td>\n",
       "      <td>1</td>\n",
       "    </tr>\n",
       "    <tr>\n",
       "      <th>5437</th>\n",
       "      <td>1</td>\n",
       "      <td>1</td>\n",
       "      <td>0</td>\n",
       "      <td>0</td>\n",
       "      <td>20</td>\n",
       "      <td>1</td>\n",
       "      <td>1</td>\n",
       "      <td>0</td>\n",
       "      <td>0</td>\n",
       "      <td>0</td>\n",
       "      <td>...</td>\n",
       "      <td>1</td>\n",
       "      <td>0</td>\n",
       "      <td>0</td>\n",
       "      <td>1</td>\n",
       "      <td>0</td>\n",
       "      <td>0</td>\n",
       "      <td>0</td>\n",
       "      <td>0</td>\n",
       "      <td>0</td>\n",
       "      <td>1</td>\n",
       "    </tr>\n",
       "    <tr>\n",
       "      <th>5031</th>\n",
       "      <td>0</td>\n",
       "      <td>0</td>\n",
       "      <td>1</td>\n",
       "      <td>1</td>\n",
       "      <td>9</td>\n",
       "      <td>1</td>\n",
       "      <td>0</td>\n",
       "      <td>0</td>\n",
       "      <td>1</td>\n",
       "      <td>0</td>\n",
       "      <td>...</td>\n",
       "      <td>0</td>\n",
       "      <td>1</td>\n",
       "      <td>0</td>\n",
       "      <td>1</td>\n",
       "      <td>0</td>\n",
       "      <td>0</td>\n",
       "      <td>0</td>\n",
       "      <td>0</td>\n",
       "      <td>1</td>\n",
       "      <td>0</td>\n",
       "    </tr>\n",
       "    <tr>\n",
       "      <th>5252</th>\n",
       "      <td>0</td>\n",
       "      <td>1</td>\n",
       "      <td>1</td>\n",
       "      <td>0</td>\n",
       "      <td>71</td>\n",
       "      <td>1</td>\n",
       "      <td>1</td>\n",
       "      <td>1</td>\n",
       "      <td>1</td>\n",
       "      <td>1</td>\n",
       "      <td>...</td>\n",
       "      <td>0</td>\n",
       "      <td>1</td>\n",
       "      <td>0</td>\n",
       "      <td>1</td>\n",
       "      <td>0</td>\n",
       "      <td>0</td>\n",
       "      <td>0</td>\n",
       "      <td>0</td>\n",
       "      <td>1</td>\n",
       "      <td>0</td>\n",
       "    </tr>\n",
       "  </tbody>\n",
       "</table>\n",
       "<p>4 rows × 27 columns</p>\n",
       "</div>"
      ],
      "text/plain": [
       "      gender  SeniorCitizen  Partner  Dependents  tenure  PhoneService  \\\n",
       "5777       0              0        1           0      72             1   \n",
       "5437       1              1        0           0      20             1   \n",
       "5031       0              0        1           1       9             1   \n",
       "5252       0              1        1           0      71             1   \n",
       "\n",
       "      MultipleLines  OnlineSecurity  OnlineBackup  DeviceProtection  ...  \\\n",
       "5777              1               1             1                 1  ...   \n",
       "5437              1               0             0                 0  ...   \n",
       "5031              0               0             1                 0  ...   \n",
       "5252              1               1             1                 1  ...   \n",
       "\n",
       "      InternetService_DSL  InternetService_Fiber optic  InternetService_No  \\\n",
       "5777                    1                            0                   0   \n",
       "5437                    1                            0                   0   \n",
       "5031                    0                            1                   0   \n",
       "5252                    0                            1                   0   \n",
       "\n",
       "      Contract_Month-to-month  Contract_One year  Contract_Two year  \\\n",
       "5777                        0                  0                  1   \n",
       "5437                        1                  0                  0   \n",
       "5031                        1                  0                  0   \n",
       "5252                        1                  0                  0   \n",
       "\n",
       "      PaymentMethod_Bank transfer (automatic)  \\\n",
       "5777                                        0   \n",
       "5437                                        0   \n",
       "5031                                        0   \n",
       "5252                                        0   \n",
       "\n",
       "      PaymentMethod_Credit card (automatic)  PaymentMethod_Electronic check  \\\n",
       "5777                                      0                               0   \n",
       "5437                                      0                               0   \n",
       "5031                                      0                               1   \n",
       "5252                                      0                               1   \n",
       "\n",
       "      PaymentMethod_Mailed check  \n",
       "5777                           1  \n",
       "5437                           1  \n",
       "5031                           0  \n",
       "5252                           0  \n",
       "\n",
       "[4 rows x 27 columns]"
      ]
     },
     "execution_count": 27,
     "metadata": {},
     "output_type": "execute_result"
    }
   ],
   "source": [
    "df2.sample(4)"
   ]
  },
  {
   "cell_type": "code",
   "execution_count": 28,
   "id": "89d6523a",
   "metadata": {},
   "outputs": [
    {
     "data": {
      "text/plain": [
       "gender                                       int64\n",
       "SeniorCitizen                                int64\n",
       "Partner                                      int64\n",
       "Dependents                                   int64\n",
       "tenure                                       int64\n",
       "PhoneService                                 int64\n",
       "MultipleLines                                int64\n",
       "OnlineSecurity                               int64\n",
       "OnlineBackup                                 int64\n",
       "DeviceProtection                             int64\n",
       "TechSupport                                  int64\n",
       "StreamingTV                                  int64\n",
       "StreamingMovies                              int64\n",
       "PaperlessBilling                             int64\n",
       "MonthlyCharges                             float64\n",
       "TotalCharges                               float64\n",
       "Churn                                        int64\n",
       "InternetService_DSL                          uint8\n",
       "InternetService_Fiber optic                  uint8\n",
       "InternetService_No                           uint8\n",
       "Contract_Month-to-month                      uint8\n",
       "Contract_One year                            uint8\n",
       "Contract_Two year                            uint8\n",
       "PaymentMethod_Bank transfer (automatic)      uint8\n",
       "PaymentMethod_Credit card (automatic)        uint8\n",
       "PaymentMethod_Electronic check               uint8\n",
       "PaymentMethod_Mailed check                   uint8\n",
       "dtype: object"
      ]
     },
     "execution_count": 28,
     "metadata": {},
     "output_type": "execute_result"
    }
   ],
   "source": [
    "df2.dtypes"
   ]
  },
  {
   "cell_type": "code",
   "execution_count": 29,
   "id": "b6394332",
   "metadata": {},
   "outputs": [],
   "source": [
    "cols_to_scale = [\"tenure\",\"MonthlyCharges\",\"TotalCharges\"]\n",
    "from sklearn.preprocessing import MinMaxScaler\n",
    "scaler = MinMaxScaler()\n",
    "df2[cols_to_scale] = scaler.fit_transform(df2[cols_to_scale])"
   ]
  },
  {
   "cell_type": "code",
   "execution_count": 30,
   "id": "81bd40fd",
   "metadata": {},
   "outputs": [
    {
     "data": {
      "text/html": [
       "<div>\n",
       "<style scoped>\n",
       "    .dataframe tbody tr th:only-of-type {\n",
       "        vertical-align: middle;\n",
       "    }\n",
       "\n",
       "    .dataframe tbody tr th {\n",
       "        vertical-align: top;\n",
       "    }\n",
       "\n",
       "    .dataframe thead th {\n",
       "        text-align: right;\n",
       "    }\n",
       "</style>\n",
       "<table border=\"1\" class=\"dataframe\">\n",
       "  <thead>\n",
       "    <tr style=\"text-align: right;\">\n",
       "      <th></th>\n",
       "      <th>gender</th>\n",
       "      <th>SeniorCitizen</th>\n",
       "      <th>Partner</th>\n",
       "      <th>Dependents</th>\n",
       "      <th>tenure</th>\n",
       "      <th>PhoneService</th>\n",
       "      <th>MultipleLines</th>\n",
       "      <th>OnlineSecurity</th>\n",
       "      <th>OnlineBackup</th>\n",
       "      <th>DeviceProtection</th>\n",
       "      <th>...</th>\n",
       "      <th>InternetService_DSL</th>\n",
       "      <th>InternetService_Fiber optic</th>\n",
       "      <th>InternetService_No</th>\n",
       "      <th>Contract_Month-to-month</th>\n",
       "      <th>Contract_One year</th>\n",
       "      <th>Contract_Two year</th>\n",
       "      <th>PaymentMethod_Bank transfer (automatic)</th>\n",
       "      <th>PaymentMethod_Credit card (automatic)</th>\n",
       "      <th>PaymentMethod_Electronic check</th>\n",
       "      <th>PaymentMethod_Mailed check</th>\n",
       "    </tr>\n",
       "  </thead>\n",
       "  <tbody>\n",
       "    <tr>\n",
       "      <th>1605</th>\n",
       "      <td>0</td>\n",
       "      <td>0</td>\n",
       "      <td>0</td>\n",
       "      <td>0</td>\n",
       "      <td>0.901408</td>\n",
       "      <td>1</td>\n",
       "      <td>0</td>\n",
       "      <td>0</td>\n",
       "      <td>0</td>\n",
       "      <td>0</td>\n",
       "      <td>...</td>\n",
       "      <td>0</td>\n",
       "      <td>0</td>\n",
       "      <td>1</td>\n",
       "      <td>0</td>\n",
       "      <td>0</td>\n",
       "      <td>1</td>\n",
       "      <td>0</td>\n",
       "      <td>1</td>\n",
       "      <td>0</td>\n",
       "      <td>0</td>\n",
       "    </tr>\n",
       "    <tr>\n",
       "      <th>319</th>\n",
       "      <td>0</td>\n",
       "      <td>0</td>\n",
       "      <td>1</td>\n",
       "      <td>0</td>\n",
       "      <td>0.478873</td>\n",
       "      <td>1</td>\n",
       "      <td>1</td>\n",
       "      <td>0</td>\n",
       "      <td>0</td>\n",
       "      <td>0</td>\n",
       "      <td>...</td>\n",
       "      <td>0</td>\n",
       "      <td>1</td>\n",
       "      <td>0</td>\n",
       "      <td>1</td>\n",
       "      <td>0</td>\n",
       "      <td>0</td>\n",
       "      <td>0</td>\n",
       "      <td>1</td>\n",
       "      <td>0</td>\n",
       "      <td>0</td>\n",
       "    </tr>\n",
       "    <tr>\n",
       "      <th>1638</th>\n",
       "      <td>1</td>\n",
       "      <td>0</td>\n",
       "      <td>1</td>\n",
       "      <td>1</td>\n",
       "      <td>0.943662</td>\n",
       "      <td>1</td>\n",
       "      <td>1</td>\n",
       "      <td>0</td>\n",
       "      <td>1</td>\n",
       "      <td>1</td>\n",
       "      <td>...</td>\n",
       "      <td>0</td>\n",
       "      <td>1</td>\n",
       "      <td>0</td>\n",
       "      <td>0</td>\n",
       "      <td>0</td>\n",
       "      <td>1</td>\n",
       "      <td>0</td>\n",
       "      <td>1</td>\n",
       "      <td>0</td>\n",
       "      <td>0</td>\n",
       "    </tr>\n",
       "  </tbody>\n",
       "</table>\n",
       "<p>3 rows × 27 columns</p>\n",
       "</div>"
      ],
      "text/plain": [
       "      gender  SeniorCitizen  Partner  Dependents    tenure  PhoneService  \\\n",
       "1605       0              0        0           0  0.901408             1   \n",
       "319        0              0        1           0  0.478873             1   \n",
       "1638       1              0        1           1  0.943662             1   \n",
       "\n",
       "      MultipleLines  OnlineSecurity  OnlineBackup  DeviceProtection  ...  \\\n",
       "1605              0               0             0                 0  ...   \n",
       "319               1               0             0                 0  ...   \n",
       "1638              1               0             1                 1  ...   \n",
       "\n",
       "      InternetService_DSL  InternetService_Fiber optic  InternetService_No  \\\n",
       "1605                    0                            0                   1   \n",
       "319                     0                            1                   0   \n",
       "1638                    0                            1                   0   \n",
       "\n",
       "      Contract_Month-to-month  Contract_One year  Contract_Two year  \\\n",
       "1605                        0                  0                  1   \n",
       "319                         1                  0                  0   \n",
       "1638                        0                  0                  1   \n",
       "\n",
       "      PaymentMethod_Bank transfer (automatic)  \\\n",
       "1605                                        0   \n",
       "319                                         0   \n",
       "1638                                        0   \n",
       "\n",
       "      PaymentMethod_Credit card (automatic)  PaymentMethod_Electronic check  \\\n",
       "1605                                      1                               0   \n",
       "319                                       1                               0   \n",
       "1638                                      1                               0   \n",
       "\n",
       "      PaymentMethod_Mailed check  \n",
       "1605                           0  \n",
       "319                            0  \n",
       "1638                           0  \n",
       "\n",
       "[3 rows x 27 columns]"
      ]
     },
     "execution_count": 30,
     "metadata": {},
     "output_type": "execute_result"
    }
   ],
   "source": [
    "df2.sample(3)"
   ]
  },
  {
   "cell_type": "code",
   "execution_count": 31,
   "id": "29c38ef0",
   "metadata": {},
   "outputs": [],
   "source": [
    "X = df2.drop(\"Churn\", axis = \"columns\")\n",
    "Y = df2.Churn"
   ]
  },
  {
   "cell_type": "code",
   "execution_count": 32,
   "id": "546e3c7c",
   "metadata": {},
   "outputs": [],
   "source": [
    "from sklearn.model_selection import train_test_split\n",
    "X_train, X_test, Y_train, Y_test = train_test_split(X, Y, test_size=0.2, random_state = 5)"
   ]
  },
  {
   "cell_type": "code",
   "execution_count": 33,
   "id": "a87a1adc",
   "metadata": {},
   "outputs": [
    {
     "data": {
      "text/plain": [
       "(5625, 26)"
      ]
     },
     "execution_count": 33,
     "metadata": {},
     "output_type": "execute_result"
    }
   ],
   "source": [
    "X_train.shape"
   ]
  },
  {
   "cell_type": "code",
   "execution_count": 34,
   "id": "7c4be8da",
   "metadata": {},
   "outputs": [
    {
     "name": "stdout",
     "output_type": "stream",
     "text": [
      "Epoch 1/100\n",
      "176/176 [==============================] - 0s 783us/step - loss: 0.5014 - accuracy: 0.7595\n",
      "Epoch 2/100\n",
      "176/176 [==============================] - 0s 780us/step - loss: 0.4282 - accuracy: 0.7961\n",
      "Epoch 3/100\n",
      "176/176 [==============================] - 0s 674us/step - loss: 0.4199 - accuracy: 0.7988\n",
      "Epoch 4/100\n",
      "176/176 [==============================] - 0s 737us/step - loss: 0.4164 - accuracy: 0.8009\n",
      "Epoch 5/100\n",
      "176/176 [==============================] - 0s 652us/step - loss: 0.4149 - accuracy: 0.8039\n",
      "Epoch 6/100\n",
      "176/176 [==============================] - 0s 567us/step - loss: 0.4133 - accuracy: 0.8037\n",
      "Epoch 7/100\n",
      "176/176 [==============================] - 0s 589us/step - loss: 0.4117 - accuracy: 0.8071\n",
      "Epoch 8/100\n",
      "176/176 [==============================] - 0s 589us/step - loss: 0.4106 - accuracy: 0.8073\n",
      "Epoch 9/100\n",
      "176/176 [==============================] - 0s 572us/step - loss: 0.4095 - accuracy: 0.8103\n",
      "Epoch 10/100\n",
      "176/176 [==============================] - 0s 578us/step - loss: 0.4090 - accuracy: 0.8078\n",
      "Epoch 11/100\n",
      "176/176 [==============================] - 0s 567us/step - loss: 0.4083 - accuracy: 0.8080\n",
      "Epoch 12/100\n",
      "176/176 [==============================] - 0s 527us/step - loss: 0.4078 - accuracy: 0.8087\n",
      "Epoch 13/100\n",
      "176/176 [==============================] - 0s 510us/step - loss: 0.4070 - accuracy: 0.8098\n",
      "Epoch 14/100\n",
      "176/176 [==============================] - 0s 635us/step - loss: 0.4058 - accuracy: 0.8098\n",
      "Epoch 15/100\n",
      "176/176 [==============================] - 0s 561us/step - loss: 0.4054 - accuracy: 0.8091\n",
      "Epoch 16/100\n",
      "176/176 [==============================] - 0s 527us/step - loss: 0.4048 - accuracy: 0.8085\n",
      "Epoch 17/100\n",
      "176/176 [==============================] - 0s 538us/step - loss: 0.4042 - accuracy: 0.8135\n",
      "Epoch 18/100\n",
      "176/176 [==============================] - 0s 516us/step - loss: 0.4043 - accuracy: 0.8123\n",
      "Epoch 19/100\n",
      "176/176 [==============================] - 0s 504us/step - loss: 0.4028 - accuracy: 0.8130\n",
      "Epoch 20/100\n",
      "176/176 [==============================] - 0s 521us/step - loss: 0.4024 - accuracy: 0.8137\n",
      "Epoch 21/100\n",
      "176/176 [==============================] - 0s 516us/step - loss: 0.4014 - accuracy: 0.8139\n",
      "Epoch 22/100\n",
      "176/176 [==============================] - 0s 504us/step - loss: 0.4010 - accuracy: 0.8117\n",
      "Epoch 23/100\n",
      "176/176 [==============================] - 0s 504us/step - loss: 0.3998 - accuracy: 0.8146\n",
      "Epoch 24/100\n",
      "176/176 [==============================] - 0s 510us/step - loss: 0.4001 - accuracy: 0.8156\n",
      "Epoch 25/100\n",
      "176/176 [==============================] - 0s 510us/step - loss: 0.3987 - accuracy: 0.8135\n",
      "Epoch 26/100\n",
      "176/176 [==============================] - 0s 510us/step - loss: 0.3987 - accuracy: 0.8153\n",
      "Epoch 27/100\n",
      "176/176 [==============================] - 0s 510us/step - loss: 0.3974 - accuracy: 0.8126\n",
      "Epoch 28/100\n",
      "176/176 [==============================] - 0s 527us/step - loss: 0.3971 - accuracy: 0.8160\n",
      "Epoch 29/100\n",
      "176/176 [==============================] - 0s 504us/step - loss: 0.3971 - accuracy: 0.8146\n",
      "Epoch 30/100\n",
      "176/176 [==============================] - 0s 504us/step - loss: 0.3965 - accuracy: 0.8183\n",
      "Epoch 31/100\n",
      "176/176 [==============================] - 0s 691us/step - loss: 0.3962 - accuracy: 0.8178\n",
      "Epoch 32/100\n",
      "176/176 [==============================] - 0s 567us/step - loss: 0.3946 - accuracy: 0.8178\n",
      "Epoch 33/100\n",
      "176/176 [==============================] - 0s 578us/step - loss: 0.3954 - accuracy: 0.8158\n",
      "Epoch 34/100\n",
      "176/176 [==============================] - 0s 550us/step - loss: 0.3937 - accuracy: 0.8190\n",
      "Epoch 35/100\n",
      "176/176 [==============================] - 0s 584us/step - loss: 0.3937 - accuracy: 0.8185\n",
      "Epoch 36/100\n",
      "176/176 [==============================] - 0s 589us/step - loss: 0.3922 - accuracy: 0.8197\n",
      "Epoch 37/100\n",
      "176/176 [==============================] - 0s 572us/step - loss: 0.3926 - accuracy: 0.8172\n",
      "Epoch 38/100\n",
      "176/176 [==============================] - 0s 567us/step - loss: 0.3927 - accuracy: 0.8162\n",
      "Epoch 39/100\n",
      "176/176 [==============================] - 0s 589us/step - loss: 0.3922 - accuracy: 0.8190\n",
      "Epoch 40/100\n",
      "176/176 [==============================] - 0s 572us/step - loss: 0.3912 - accuracy: 0.8212\n",
      "Epoch 41/100\n",
      "176/176 [==============================] - 0s 635us/step - loss: 0.3918 - accuracy: 0.8169\n",
      "Epoch 42/100\n",
      "176/176 [==============================] - 0s 589us/step - loss: 0.3911 - accuracy: 0.8165\n",
      "Epoch 43/100\n",
      "176/176 [==============================] - 0s 601us/step - loss: 0.3899 - accuracy: 0.8174\n",
      "Epoch 44/100\n",
      "176/176 [==============================] - 0s 584us/step - loss: 0.3904 - accuracy: 0.8178\n",
      "Epoch 45/100\n",
      "176/176 [==============================] - 0s 572us/step - loss: 0.3891 - accuracy: 0.8188\n",
      "Epoch 46/100\n",
      "176/176 [==============================] - 0s 629us/step - loss: 0.3887 - accuracy: 0.8181\n",
      "Epoch 47/100\n",
      "176/176 [==============================] - 0s 629us/step - loss: 0.3889 - accuracy: 0.8178\n",
      "Epoch 48/100\n",
      "176/176 [==============================] - 0s 561us/step - loss: 0.3879 - accuracy: 0.8199\n",
      "Epoch 49/100\n",
      "176/176 [==============================] - 0s 572us/step - loss: 0.3877 - accuracy: 0.8197\n",
      "Epoch 50/100\n",
      "176/176 [==============================] - 0s 561us/step - loss: 0.3863 - accuracy: 0.8222\n",
      "Epoch 51/100\n",
      "176/176 [==============================] - 0s 601us/step - loss: 0.3864 - accuracy: 0.8185\n",
      "Epoch 52/100\n",
      "176/176 [==============================] - 0s 555us/step - loss: 0.3862 - accuracy: 0.8220\n",
      "Epoch 53/100\n",
      "176/176 [==============================] - 0s 618us/step - loss: 0.3863 - accuracy: 0.8187\n",
      "Epoch 54/100\n",
      "176/176 [==============================] - 0s 572us/step - loss: 0.3861 - accuracy: 0.8190\n",
      "Epoch 55/100\n",
      "176/176 [==============================] - 0s 555us/step - loss: 0.3854 - accuracy: 0.8210\n",
      "Epoch 56/100\n",
      "176/176 [==============================] - 0s 578us/step - loss: 0.3855 - accuracy: 0.8208\n",
      "Epoch 57/100\n",
      "176/176 [==============================] - 0s 567us/step - loss: 0.3843 - accuracy: 0.8201\n",
      "Epoch 58/100\n",
      "176/176 [==============================] - 0s 567us/step - loss: 0.3851 - accuracy: 0.8197\n",
      "Epoch 59/100\n",
      "176/176 [==============================] - 0s 550us/step - loss: 0.3845 - accuracy: 0.8219\n",
      "Epoch 60/100\n",
      "176/176 [==============================] - 0s 555us/step - loss: 0.3843 - accuracy: 0.8206\n",
      "Epoch 61/100\n",
      "176/176 [==============================] - 0s 555us/step - loss: 0.3841 - accuracy: 0.8217\n",
      "Epoch 62/100\n",
      "176/176 [==============================] - 0s 550us/step - loss: 0.3829 - accuracy: 0.8222\n",
      "Epoch 63/100\n",
      "176/176 [==============================] - 0s 567us/step - loss: 0.3837 - accuracy: 0.8196\n",
      "Epoch 64/100\n",
      "176/176 [==============================] - 0s 550us/step - loss: 0.3832 - accuracy: 0.8231\n",
      "Epoch 65/100\n",
      "176/176 [==============================] - 0s 561us/step - loss: 0.3838 - accuracy: 0.8210\n",
      "Epoch 66/100\n",
      "176/176 [==============================] - 0s 555us/step - loss: 0.3824 - accuracy: 0.8204\n",
      "Epoch 67/100\n",
      "176/176 [==============================] - 0s 561us/step - loss: 0.3822 - accuracy: 0.8210\n",
      "Epoch 68/100\n",
      "176/176 [==============================] - 0s 550us/step - loss: 0.3816 - accuracy: 0.8238\n",
      "Epoch 69/100\n",
      "176/176 [==============================] - 0s 561us/step - loss: 0.3816 - accuracy: 0.8215\n",
      "Epoch 70/100\n",
      "176/176 [==============================] - 0s 550us/step - loss: 0.3813 - accuracy: 0.8233\n",
      "Epoch 71/100\n",
      "176/176 [==============================] - 0s 567us/step - loss: 0.3813 - accuracy: 0.8217\n",
      "Epoch 72/100\n",
      "176/176 [==============================] - 0s 567us/step - loss: 0.3817 - accuracy: 0.8194\n",
      "Epoch 73/100\n",
      "176/176 [==============================] - 0s 550us/step - loss: 0.3802 - accuracy: 0.8213\n",
      "Epoch 74/100\n",
      "176/176 [==============================] - 0s 572us/step - loss: 0.3808 - accuracy: 0.8226\n",
      "Epoch 75/100\n",
      "176/176 [==============================] - 0s 550us/step - loss: 0.3809 - accuracy: 0.8210\n",
      "Epoch 76/100\n",
      "176/176 [==============================] - 0s 572us/step - loss: 0.3807 - accuracy: 0.8215\n",
      "Epoch 77/100\n",
      "176/176 [==============================] - 0s 550us/step - loss: 0.3805 - accuracy: 0.8217\n",
      "Epoch 78/100\n",
      "176/176 [==============================] - 0s 561us/step - loss: 0.3814 - accuracy: 0.8204\n",
      "Epoch 79/100\n"
     ]
    },
    {
     "name": "stdout",
     "output_type": "stream",
     "text": [
      "176/176 [==============================] - 0s 561us/step - loss: 0.3798 - accuracy: 0.8215\n",
      "Epoch 80/100\n",
      "176/176 [==============================] - 0s 550us/step - loss: 0.3796 - accuracy: 0.8220\n",
      "Epoch 81/100\n",
      "176/176 [==============================] - 0s 561us/step - loss: 0.3793 - accuracy: 0.8224\n",
      "Epoch 82/100\n",
      "176/176 [==============================] - 0s 550us/step - loss: 0.3790 - accuracy: 0.8229\n",
      "Epoch 83/100\n",
      "176/176 [==============================] - 0s 538us/step - loss: 0.3795 - accuracy: 0.8235\n",
      "Epoch 84/100\n",
      "176/176 [==============================] - 0s 561us/step - loss: 0.3785 - accuracy: 0.8244\n",
      "Epoch 85/100\n",
      "176/176 [==============================] - 0s 538us/step - loss: 0.3784 - accuracy: 0.8222\n",
      "Epoch 86/100\n",
      "176/176 [==============================] - 0s 578us/step - loss: 0.3782 - accuracy: 0.8251\n",
      "Epoch 87/100\n",
      "176/176 [==============================] - 0s 550us/step - loss: 0.3793 - accuracy: 0.8194\n",
      "Epoch 88/100\n",
      "176/176 [==============================] - 0s 555us/step - loss: 0.3775 - accuracy: 0.8236\n",
      "Epoch 89/100\n",
      "176/176 [==============================] - 0s 544us/step - loss: 0.3777 - accuracy: 0.8224\n",
      "Epoch 90/100\n",
      "176/176 [==============================] - 0s 544us/step - loss: 0.3786 - accuracy: 0.8222\n",
      "Epoch 91/100\n",
      "176/176 [==============================] - 0s 572us/step - loss: 0.3777 - accuracy: 0.8245\n",
      "Epoch 92/100\n",
      "176/176 [==============================] - 0s 550us/step - loss: 0.3776 - accuracy: 0.8236\n",
      "Epoch 93/100\n",
      "176/176 [==============================] - 0s 538us/step - loss: 0.3769 - accuracy: 0.8206\n",
      "Epoch 94/100\n",
      "176/176 [==============================] - 0s 555us/step - loss: 0.3769 - accuracy: 0.8268\n",
      "Epoch 95/100\n",
      "176/176 [==============================] - 0s 567us/step - loss: 0.3772 - accuracy: 0.8226\n",
      "Epoch 96/100\n",
      "176/176 [==============================] - 0s 584us/step - loss: 0.3766 - accuracy: 0.8242\n",
      "Epoch 97/100\n",
      "176/176 [==============================] - 0s 544us/step - loss: 0.3763 - accuracy: 0.8242\n",
      "Epoch 98/100\n",
      "176/176 [==============================] - 0s 567us/step - loss: 0.3762 - accuracy: 0.8245\n",
      "Epoch 99/100\n",
      "176/176 [==============================] - 0s 544us/step - loss: 0.3761 - accuracy: 0.8251\n",
      "Epoch 100/100\n",
      "176/176 [==============================] - 0s 550us/step - loss: 0.3768 - accuracy: 0.8210\n"
     ]
    },
    {
     "data": {
      "text/plain": [
       "<tensorflow.python.keras.callbacks.History at 0x23f5b4d0670>"
      ]
     },
     "execution_count": 34,
     "metadata": {},
     "output_type": "execute_result"
    }
   ],
   "source": [
    "model = keras.Sequential([\n",
    "    keras.layers.Dense(26, input_shape = (26,), activation = \"relu\" ),\n",
    "     #keras.layers.Dense(15,  activation = \"relu\" ),\n",
    "      keras.layers.Dense(1, activation = \"sigmoid\" )\n",
    "])\n",
    "    \n",
    "    \n",
    "model.compile(optimizer = \"adam\",\n",
    "            loss = \"binary_crossentropy\",\n",
    "          metrics = [\"accuracy\"]  \n",
    "             )\n",
    "              \n",
    "model.fit(X_train, Y_train, epochs = 100)"
   ]
  },
  {
   "cell_type": "code",
   "execution_count": 35,
   "id": "24b68ffc",
   "metadata": {},
   "outputs": [
    {
     "name": "stdout",
     "output_type": "stream",
     "text": [
      "44/44 [==============================] - 0s 594us/step - loss: 0.4591 - accuracy: 0.7797\n"
     ]
    },
    {
     "data": {
      "text/plain": [
       "[0.45914149284362793, 0.7796730399131775]"
      ]
     },
     "execution_count": 35,
     "metadata": {},
     "output_type": "execute_result"
    }
   ],
   "source": [
    "model.evaluate(X_test, Y_test)"
   ]
  },
  {
   "cell_type": "code",
   "execution_count": 36,
   "id": "ca08c0a4",
   "metadata": {},
   "outputs": [
    {
     "data": {
      "text/plain": [
       "array([[0.13768125],\n",
       "       [0.36685926],\n",
       "       [0.00805858],\n",
       "       [0.7716452 ],\n",
       "       [0.5130213 ]], dtype=float32)"
      ]
     },
     "execution_count": 36,
     "metadata": {},
     "output_type": "execute_result"
    }
   ],
   "source": [
    "yp = model.predict(X_test)\n",
    "yp[:5]"
   ]
  },
  {
   "cell_type": "code",
   "execution_count": 37,
   "id": "bda8ae2c",
   "metadata": {},
   "outputs": [
    {
     "data": {
      "text/plain": [
       "2660    0\n",
       "744     0\n",
       "5579    1\n",
       "64      1\n",
       "3287    1\n",
       "Name: Churn, dtype: int64"
      ]
     },
     "execution_count": 37,
     "metadata": {},
     "output_type": "execute_result"
    }
   ],
   "source": [
    "Y_test[:5]"
   ]
  },
  {
   "cell_type": "code",
   "execution_count": 38,
   "id": "89927703",
   "metadata": {},
   "outputs": [],
   "source": [
    "y_pred = []\n",
    "\n",
    "for element in yp:\n",
    "    if element > 0.5:\n",
    "        y_pred.append(1)\n",
    "    else:\n",
    "        y_pred.append(0)"
   ]
  },
  {
   "cell_type": "code",
   "execution_count": 39,
   "id": "47f5f097",
   "metadata": {},
   "outputs": [
    {
     "data": {
      "text/plain": [
       "[0, 0, 0, 1, 1]"
      ]
     },
     "execution_count": 39,
     "metadata": {},
     "output_type": "execute_result"
    }
   ],
   "source": [
    "y_pred[:5]"
   ]
  },
  {
   "cell_type": "code",
   "execution_count": 40,
   "id": "6d1efd68",
   "metadata": {},
   "outputs": [
    {
     "name": "stdout",
     "output_type": "stream",
     "text": [
      "              precision    recall  f1-score   support\n",
      "\n",
      "           0       0.82      0.89      0.85       999\n",
      "           1       0.65      0.51      0.57       408\n",
      "\n",
      "    accuracy                           0.78      1407\n",
      "   macro avg       0.74      0.70      0.71      1407\n",
      "weighted avg       0.77      0.78      0.77      1407\n",
      "\n"
     ]
    }
   ],
   "source": [
    "from sklearn.metrics import  classification_report\n",
    "\n",
    "print(classification_report(Y_test, y_pred))"
   ]
  },
  {
   "cell_type": "code",
   "execution_count": 41,
   "id": "3b443e08",
   "metadata": {},
   "outputs": [
    {
     "data": {
      "text/plain": [
       "Text(69.0, 0.5, 'Truth')"
      ]
     },
     "execution_count": 41,
     "metadata": {},
     "output_type": "execute_result"
    },
    {
     "data": {
      "image/png": "[encoded data removed]",
      "text/plain": [
       "<Figure size 720x504 with 2 Axes>"
      ]
     },
     "metadata": {
      "needs_background": "light"
     },
     "output_type": "display_data"
    }
   ],
   "source": [
    "cm = tf.math.confusion_matrix(labels = Y_test, predictions =y_pred)\n",
    "cm\n",
    "\n",
    "import seaborn as sn\n",
    "plt.figure(figsize = (10,7))\n",
    "sn.heatmap(cm, annot = True, fmt = \"d\")\n",
    "plt.xlabel(\"predicted\")\n",
    "plt.ylabel(\"Truth\")"
   ]
  },
  {
   "cell_type": "code",
   "execution_count": null,
   "id": "e9b963e1",
   "metadata": {},
   "outputs": [],
   "source": []
  }
 ],
 "metadata": {
  "kernelspec": {
   "display_name": "Python 3",
   "language": "python",
   "name": "python3"
  },
  "language_info": {
   "codemirror_mode": {
    "name": "ipython",
    "version": 3
   },
   "file_extension": ".py",
   "mimetype": "text/x-python",
   "name": "python",
   "nbconvert_exporter": "python",
   "pygments_lexer": "ipython3",
   "version": "3.8.8"
  }
 },
 "nbformat": 4,
 "nbformat_minor": 5
}
